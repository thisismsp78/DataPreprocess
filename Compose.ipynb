{
 "cells": [
  {
   "cell_type": "code",
   "execution_count": 1,
   "metadata": {},
   "outputs": [],
   "source": [
    "import pandas as pd\n",
    "x = pd.DataFrame(\n",
    "     {'city': ['London', 'London', 'Paris', 'Sallisaw'],\n",
    "      'title': [\"His Last Bow\", \"How Watson Learned the Trick\",\n",
    "                \"A Moveable Feast\", \"The Grapes of Wrath\"],\n",
    "      'expert_rating': [5, 3, 4, 5],\n",
    "      'user_rating': [4, 5, 4, 3]})"
   ]
  },
  {
   "cell_type": "code",
   "execution_count": 3,
   "metadata": {},
   "outputs": [],
   "source": [
    "from sklearn.compose import ColumnTransformer\n",
    "from sklearn.feature_extraction.text import CountVectorizer\n",
    "from sklearn.preprocessing import OneHotEncoder\n",
    "column_trans = ColumnTransformer(\n",
    "     [('city_XXX', OneHotEncoder(dtype='int'),['city']),\n",
    "      ('title_YYY', CountVectorizer(), 'title')],\n",
    "     remainder='drop')"
   ]
  },
  {
   "cell_type": "code",
   "execution_count": 5,
   "metadata": {},
   "outputs": [
    {
     "data": {
      "text/plain": [
       "ColumnTransformer(n_jobs=None, remainder='drop', sparse_threshold=0.3,\n",
       "                  transformer_weights=None,\n",
       "                  transformers=[('city_XXX',\n",
       "                                 OneHotEncoder(categorical_features=None,\n",
       "                                               categories=None, drop=None,\n",
       "                                               dtype='int',\n",
       "                                               handle_unknown='error',\n",
       "                                               n_values=None, sparse=True),\n",
       "                                 ['city']),\n",
       "                                ('title_YYY',\n",
       "                                 CountVectorizer(analyzer='word', binary=False,\n",
       "                                                 decode_error='strict',\n",
       "                                                 dtype=<class 'numpy.int64'>,\n",
       "                                                 encoding='utf-8',\n",
       "                                                 input='content',\n",
       "                                                 lowercase=True, max_df=1.0,\n",
       "                                                 max_features=None, min_df=1,\n",
       "                                                 ngram_range=(1, 1),\n",
       "                                                 preprocessor=None,\n",
       "                                                 stop_words=None,\n",
       "                                                 strip_accents=None,\n",
       "                                                 token_pattern='(?u)\\\\b\\\\w\\\\w+\\\\b',\n",
       "                                                 tokenizer=None,\n",
       "                                                 vocabulary=None),\n",
       "                                 'title')],\n",
       "                  verbose=False)"
      ]
     },
     "execution_count": 5,
     "metadata": {},
     "output_type": "execute_result"
    }
   ],
   "source": [
    "column_trans.fit(x)"
   ]
  },
  {
   "cell_type": "code",
   "execution_count": 6,
   "metadata": {},
   "outputs": [
    {
     "data": {
      "text/plain": [
       "['city_XXX__x0_London',\n",
       " 'city_XXX__x0_Paris',\n",
       " 'city_XXX__x0_Sallisaw',\n",
       " 'title_YYY__bow',\n",
       " 'title_YYY__feast',\n",
       " 'title_YYY__grapes',\n",
       " 'title_YYY__his',\n",
       " 'title_YYY__how',\n",
       " 'title_YYY__last',\n",
       " 'title_YYY__learned',\n",
       " 'title_YYY__moveable',\n",
       " 'title_YYY__of',\n",
       " 'title_YYY__the',\n",
       " 'title_YYY__trick',\n",
       " 'title_YYY__watson',\n",
       " 'title_YYY__wrath']"
      ]
     },
     "execution_count": 6,
     "metadata": {},
     "output_type": "execute_result"
    }
   ],
   "source": [
    "column_trans.get_feature_names()"
   ]
  }
 ],
 "metadata": {
  "kernelspec": {
   "display_name": "Python 3",
   "language": "python",
   "name": "python3"
  },
  "language_info": {
   "codemirror_mode": {
    "name": "ipython",
    "version": 3
   },
   "file_extension": ".py",
   "mimetype": "text/x-python",
   "name": "python",
   "nbconvert_exporter": "python",
   "pygments_lexer": "ipython3",
   "version": "3.7.4"
  }
 },
 "nbformat": 4,
 "nbformat_minor": 2
}
