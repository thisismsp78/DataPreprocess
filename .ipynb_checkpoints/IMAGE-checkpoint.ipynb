{
 "cells": [
  {
   "cell_type": "code",
   "execution_count": 1,
   "metadata": {},
   "outputs": [],
   "source": [
    "from PIL import Image\n",
    "import glob\n",
    "import os,sys"
   ]
  },
  {
   "cell_type": "code",
   "execution_count": 2,
   "metadata": {},
   "outputs": [],
   "source": [
    "path=\"C:/Users/MSP78/Desktop/AmanjCods/images/\"\n",
    "images=glob.glob(path+\"*.png\")"
   ]
  },
  {
   "cell_type": "code",
   "execution_count": 3,
   "metadata": {},
   "outputs": [
    {
     "data": {
      "text/plain": [
       "16"
      ]
     },
     "execution_count": 3,
     "metadata": {},
     "output_type": "execute_result"
    }
   ],
   "source": [
    "len(images)"
   ]
  },
  {
   "cell_type": "code",
   "execution_count": 4,
   "metadata": {},
   "outputs": [],
   "source": [
    "def resize():\n",
    "    for item in images:\n",
    "        #if os.path.isfile(path+item):\n",
    "        im=Image.open(item).convert(\"RGB\")\n",
    "        f,e =os.path.splitext(item)\n",
    "        imresize=im.resize((64,64),Image.ANTIALIAS)\n",
    "        imresize.save(f+\".jpg\",\"JPEG\",quality=100)"
   ]
  },
  {
   "cell_type": "code",
   "execution_count": 5,
   "metadata": {},
   "outputs": [],
   "source": [
    "resize()"
   ]
  },
  {
   "cell_type": "code",
   "execution_count": 19,
   "metadata": {},
   "outputs": [],
   "source": [
    "os.chdir('C:/Users/MSP78/Desktop/AmanjCods/images/')"
   ]
  },
  {
   "cell_type": "code",
   "execution_count": 20,
   "metadata": {},
   "outputs": [
    {
     "name": "stdout",
     "output_type": "stream",
     "text": [
      "0001TP_008550.jpg\n",
      "0001TP_008580.jpg\n",
      "0001TP_008610.jpg\n",
      "0001TP_008640.jpg\n",
      "0001TP_008670.jpg\n",
      "0001TP_008700.jpg\n",
      "0001TP_008730.jpg\n",
      "0001TP_008760.jpg\n",
      "0001TP_008790.jpg\n",
      "0001TP_008820.jpg\n",
      "0001TP_008850.jpg\n",
      "0001TP_008880.jpg\n",
      "0001TP_008910.jpg\n",
      "0001TP_008940.jpg\n",
      "0001TP_008970.jpg\n",
      "0001TP_009000.jpg\n"
     ]
    }
   ],
   "source": [
    "def main():\n",
    "    for count,filename in enumerate(os.listdir('C:/Users/MSP78/Desktop/AmanjCods/images/')):\n",
    "        if \".jpg\" in filename:\n",
    "            print(filename)\n",
    "            dst=str(count)+\".jpg\"\n",
    "            src=str(filename)\n",
    "            #dst=\"\"+dst\n",
    "            os.rename(src,dst)\n",
    "main()"
   ]
  }
 ],
 "metadata": {
  "kernelspec": {
   "display_name": "Python 3",
   "language": "python",
   "name": "python3"
  },
  "language_info": {
   "codemirror_mode": {
    "name": "ipython",
    "version": 3
   },
   "file_extension": ".py",
   "mimetype": "text/x-python",
   "name": "python",
   "nbconvert_exporter": "python",
   "pygments_lexer": "ipython3",
   "version": "3.7.4"
  }
 },
 "nbformat": 4,
 "nbformat_minor": 2
}
