{
 "cells": [
  {
   "cell_type": "code",
   "execution_count": 1,
   "metadata": {},
   "outputs": [],
   "source": [
    "import pandas as pd\n",
    "from random import randint"
   ]
  },
  {
   "cell_type": "code",
   "execution_count": 2,
   "metadata": {},
   "outputs": [],
   "source": [
    "data=pd.read_csv(\"daily-minimum-temperatures-in-me.csv\")"
   ]
  },
  {
   "cell_type": "code",
   "execution_count": 3,
   "metadata": {},
   "outputs": [],
   "source": [
    "class Labeling():\n",
    "    def __init__(self,dataset):\n",
    "        self.dataset=dataset\n",
    "        self.samples=self.dataset.shape[0]\n",
    "        labels=[]\n",
    "        for x in range(self.samples):\n",
    "            labels.append(randint(1,4))\n",
    "        X=pd.DataFrame(labels,index=list(range(self.samples)))\n",
    "        self.dataset=pd.concat([self.dataset,X],axis=1,ignore_index=False)\n",
    "    def __str__(self):\n",
    "        return f\"{self.dataset}\""
   ]
  },
  {
   "cell_type": "code",
   "execution_count": 4,
   "metadata": {},
   "outputs": [
    {
     "name": "stdout",
     "output_type": "stream",
     "text": [
      "            Date Daily minimum temperatures  0\n",
      "0       1/1/1981                       20.7  2\n",
      "1       1/2/1981                       17.9  1\n",
      "2       1/3/1981                       18.8  4\n",
      "3       1/4/1981                       14.6  2\n",
      "4       1/5/1981                       15.8  3\n",
      "...          ...                        ... ..\n",
      "3645  12/27/1990                         14  4\n",
      "3646  12/28/1990                       13.6  2\n",
      "3647  12/29/1990                       13.5  1\n",
      "3648  12/30/1990                       15.7  3\n",
      "3649  12/31/1990                         13  1\n",
      "\n",
      "[3650 rows x 3 columns]\n"
     ]
    }
   ],
   "source": [
    "q=Labeling(data)\n",
    "print(q)"
   ]
  },
  {
   "cell_type": "code",
   "execution_count": 5,
   "metadata": {},
   "outputs": [],
   "source": [
    "labels=[]\n",
    "samples=data.shape[0]\n",
    "for x in range(samples):\n",
    "    labels.append(randint(1,4))\n",
    "labels=pd.DataFrame(labels,index=list(range(samples)))\n",
    "data=pd.concat([data,labels],axis=1,ignore_index=False)"
   ]
  },
  {
   "cell_type": "code",
   "execution_count": 6,
   "metadata": {},
   "outputs": [
    {
     "data": {
      "text/html": [
       "<div>\n",
       "<style scoped>\n",
       "    .dataframe tbody tr th:only-of-type {\n",
       "        vertical-align: middle;\n",
       "    }\n",
       "\n",
       "    .dataframe tbody tr th {\n",
       "        vertical-align: top;\n",
       "    }\n",
       "\n",
       "    .dataframe thead th {\n",
       "        text-align: right;\n",
       "    }\n",
       "</style>\n",
       "<table border=\"1\" class=\"dataframe\">\n",
       "  <thead>\n",
       "    <tr style=\"text-align: right;\">\n",
       "      <th></th>\n",
       "      <th>Date</th>\n",
       "      <th>Daily minimum temperatures</th>\n",
       "      <th>label</th>\n",
       "    </tr>\n",
       "  </thead>\n",
       "  <tbody>\n",
       "    <tr>\n",
       "      <td>0</td>\n",
       "      <td>1/1/1981</td>\n",
       "      <td>20.7</td>\n",
       "      <td>2</td>\n",
       "    </tr>\n",
       "    <tr>\n",
       "      <td>1</td>\n",
       "      <td>1/2/1981</td>\n",
       "      <td>17.9</td>\n",
       "      <td>1</td>\n",
       "    </tr>\n",
       "    <tr>\n",
       "      <td>2</td>\n",
       "      <td>1/3/1981</td>\n",
       "      <td>18.8</td>\n",
       "      <td>4</td>\n",
       "    </tr>\n",
       "    <tr>\n",
       "      <td>3</td>\n",
       "      <td>1/4/1981</td>\n",
       "      <td>14.6</td>\n",
       "      <td>2</td>\n",
       "    </tr>\n",
       "    <tr>\n",
       "      <td>4</td>\n",
       "      <td>1/5/1981</td>\n",
       "      <td>15.8</td>\n",
       "      <td>3</td>\n",
       "    </tr>\n",
       "    <tr>\n",
       "      <td>...</td>\n",
       "      <td>...</td>\n",
       "      <td>...</td>\n",
       "      <td>...</td>\n",
       "    </tr>\n",
       "    <tr>\n",
       "      <td>3645</td>\n",
       "      <td>12/27/1990</td>\n",
       "      <td>14</td>\n",
       "      <td>4</td>\n",
       "    </tr>\n",
       "    <tr>\n",
       "      <td>3646</td>\n",
       "      <td>12/28/1990</td>\n",
       "      <td>13.6</td>\n",
       "      <td>2</td>\n",
       "    </tr>\n",
       "    <tr>\n",
       "      <td>3647</td>\n",
       "      <td>12/29/1990</td>\n",
       "      <td>13.5</td>\n",
       "      <td>1</td>\n",
       "    </tr>\n",
       "    <tr>\n",
       "      <td>3648</td>\n",
       "      <td>12/30/1990</td>\n",
       "      <td>15.7</td>\n",
       "      <td>3</td>\n",
       "    </tr>\n",
       "    <tr>\n",
       "      <td>3649</td>\n",
       "      <td>12/31/1990</td>\n",
       "      <td>13</td>\n",
       "      <td>1</td>\n",
       "    </tr>\n",
       "  </tbody>\n",
       "</table>\n",
       "<p>3650 rows × 3 columns</p>\n",
       "</div>"
      ],
      "text/plain": [
       "            Date Daily minimum temperatures  label\n",
       "0       1/1/1981                       20.7      2\n",
       "1       1/2/1981                       17.9      1\n",
       "2       1/3/1981                       18.8      4\n",
       "3       1/4/1981                       14.6      2\n",
       "4       1/5/1981                       15.8      3\n",
       "...          ...                        ...    ...\n",
       "3645  12/27/1990                         14      4\n",
       "3646  12/28/1990                       13.6      2\n",
       "3647  12/29/1990                       13.5      1\n",
       "3648  12/30/1990                       15.7      3\n",
       "3649  12/31/1990                         13      1\n",
       "\n",
       "[3650 rows x 3 columns]"
      ]
     },
     "execution_count": 6,
     "metadata": {},
     "output_type": "execute_result"
    }
   ],
   "source": [
    "q.dataset.rename(columns={0:\"label\"})"
   ]
  }
 ],
 "metadata": {
  "kernelspec": {
   "display_name": "Python 3",
   "language": "python",
   "name": "python3"
  },
  "language_info": {
   "codemirror_mode": {
    "name": "ipython",
    "version": 3
   },
   "file_extension": ".py",
   "mimetype": "text/x-python",
   "name": "python",
   "nbconvert_exporter": "python",
   "pygments_lexer": "ipython3",
   "version": "3.7.4"
  }
 },
 "nbformat": 4,
 "nbformat_minor": 2
}
