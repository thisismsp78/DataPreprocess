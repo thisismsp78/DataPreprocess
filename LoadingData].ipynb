{
 "cells": [
  {
   "cell_type": "code",
   "execution_count": null,
   "metadata": {},
   "outputs": [],
   "source": [
    "import scrapy\n",
    "from scrapy.crawler import CrawlerProcess"
   ]
  },
  {
   "cell_type": "code",
   "execution_count": null,
   "metadata": {},
   "outputs": [],
   "source": [
    "class Albert(scrapy.Spider):\n",
    "    name=\"qasem\"\n",
    "    start_urls=[\"https://en.wikipedia.org/wiki/Qasem_Soleimani\",]\n",
    "    \n",
    "    def parse(self,response):\n",
    "        for quote in response.css(\"div.mw-parser-output > ul > li\"):\n",
    "            yield {\"quote\":quote.extract()}"
   ]
  },
  {
   "cell_type": "code",
   "execution_count": null,
   "metadata": {},
   "outputs": [],
   "source": [
    "process=CrawlerProcess()\n",
    "process.crawl(Albert)\n",
    "process.start()"
   ]
  },
  {
   "cell_type": "code",
   "execution_count": null,
   "metadata": {},
   "outputs": [],
   "source": [
    "import numpy as np\n",
    "import matplotlib.pyplot as plt\n",
    "import seaborn as sns\n",
    "from sklearn.preprocessing import minmax_scale\n",
    "from scipy import stats\n",
    "%matplotlib"
   ]
  },
  {
   "cell_type": "code",
   "execution_count": null,
   "metadata": {},
   "outputs": [],
   "source": [
    "dataset=np.random.exponential(size=1000)"
   ]
  },
  {
   "cell_type": "code",
   "execution_count": null,
   "metadata": {},
   "outputs": [],
   "source": [
    "scaled=minmax_scale(dataset)"
   ]
  },
  {
   "cell_type": "code",
   "execution_count": null,
   "metadata": {},
   "outputs": [],
   "source": [
    "plt,ax=plt.subplots(1,2)\n",
    "sns.distplot(dataset,ax=ax[0])\n",
    "ax[0].set_title(\"Original\")\n",
    "sns.distplot(scaled,ax=ax[1])\n",
    "ax[1].set_title(\"Scaled\")"
   ]
  },
  {
   "cell_type": "code",
   "execution_count": null,
   "metadata": {},
   "outputs": [],
   "source": [
    "normalized=stats.boxcox(dataset)"
   ]
  },
  {
   "cell_type": "code",
   "execution_count": null,
   "metadata": {},
   "outputs": [],
   "source": [
    "plt,ax=plt.subplots(1,2)\n",
    "sns.distplot(dataset,ax=ax[0])\n",
    "ax[0].set_title(\"Original\")\n",
    "sns.distplot(normalized,ax=ax[1])\n",
    "ax[1].set_title(\"Scaled\")"
   ]
  }
 ],
 "metadata": {
  "kernelspec": {
   "display_name": "Python 3",
   "language": "python",
   "name": "python3"
  },
  "language_info": {
   "codemirror_mode": {
    "name": "ipython",
    "version": 3
   },
   "file_extension": ".py",
   "mimetype": "text/x-python",
   "name": "python",
   "nbconvert_exporter": "python",
   "pygments_lexer": "ipython3",
   "version": "3.7.4"
  }
 },
 "nbformat": 4,
 "nbformat_minor": 2
}
