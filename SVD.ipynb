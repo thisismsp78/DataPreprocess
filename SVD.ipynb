{
 "cells": [
  {
   "cell_type": "code",
   "execution_count": 1,
   "metadata": {},
   "outputs": [],
   "source": [
    "import numpy as np\n",
    "from sklearn.datasets import load_digits\n",
    "import matplotlib.pyplot as plt\n",
    "from sklearn.decomposition import TruncatedSVD\n",
    "from sklearn.ensemble import RandomForestClassifier"
   ]
  },
  {
   "cell_type": "code",
   "execution_count": 9,
   "metadata": {},
   "outputs": [],
   "source": [
    "formatter=lambda x:\"%.2f\"%x\n",
    "np.set_printoptions(formatter={\"float_kind\":formatter})"
   ]
  },
  {
   "cell_type": "code",
   "execution_count": 18,
   "metadata": {},
   "outputs": [],
   "source": [
    "X,y=load_digits(return_X_y=True)"
   ]
  },
  {
   "cell_type": "code",
   "execution_count": 19,
   "metadata": {},
   "outputs": [
    {
     "name": "stdout",
     "output_type": "stream",
     "text": [
      "(1797, 64)\n",
      "(1797,)\n"
     ]
    }
   ],
   "source": [
    "print(X.shape)\n",
    "print(y.shape)"
   ]
  },
  {
   "cell_type": "code",
   "execution_count": 26,
   "metadata": {},
   "outputs": [
    {
     "name": "stdout",
     "output_type": "stream",
     "text": [
      "[0.00 0.00 5.00 13.00 9.00 1.00 0.00 0.00 0.00 0.00 13.00 15.00 10.00\n",
      " 15.00 5.00 0.00 0.00 3.00 15.00 2.00 0.00 11.00 8.00 0.00 0.00 4.00 12.00\n",
      " 0.00 0.00 8.00 8.00 0.00 0.00 5.00 8.00 0.00 0.00 9.00 8.00 0.00 0.00\n",
      " 4.00 11.00 0.00 1.00 12.00 7.00 0.00 0.00 2.00 14.00 5.00 10.00 12.00\n",
      " 0.00 0.00 0.00 0.00 6.00 13.00 10.00 0.00 0.00 0.00]\n"
     ]
    }
   ],
   "source": [
    "image=X[0]\n",
    "print(image)"
   ]
  },
  {
   "cell_type": "code",
   "execution_count": 27,
   "metadata": {},
   "outputs": [
    {
     "data": {
      "text/plain": [
       "<matplotlib.image.AxesImage at 0x2cf9d4207c8>"
      ]
     },
     "execution_count": 27,
     "metadata": {},
     "output_type": "execute_result"
    },
    {
     "data": {
      "image/png": "[encoded data removed]",
      "text/plain": [
       "<Figure size 288x288 with 1 Axes>"
      ]
     },
     "metadata": {
      "needs_background": "light"
     },
     "output_type": "display_data"
    }
   ],
   "source": [
    "image=image.reshape((8,8))\n",
    "plt.matshow(image,cmap=\"gray\")"
   ]
  },
  {
   "cell_type": "code",
   "execution_count": 47,
   "metadata": {},
   "outputs": [
    {
     "name": "stdout",
     "output_type": "stream",
     "text": [
      "[[0.00 -0.01 0.03 0.07 0.06 0.01 -0.01 0.00]\n",
      " [0.00 0.01 -0.04 -0.12 -0.10 -0.02 0.02 0.00]\n",
      " [0.00 0.01 -0.03 -0.09 -0.07 -0.01 0.01 0.00]\n",
      " [0.00 -0.06 0.20 0.57 0.45 0.10 -0.07 0.00]\n",
      " [0.00 -0.01 0.05 0.14 0.11 0.02 -0.02 0.00]\n",
      " [0.00 -0.04 0.14 0.41 0.32 0.07 -0.05 0.00]\n",
      " [0.00 0.01 -0.02 -0.07 -0.05 -0.01 0.01 0.00]\n",
      " [0.00 -0.01 0.05 0.14 0.11 0.02 -0.02 0.00]]\n"
     ]
    }
   ],
   "source": [
    "U,S,V=np.linalg.svd(image)\n",
    "S=np.zeros((image.shape[0],image.shape[1]))\n",
    "S[:image.shape[0],:image.shape[0]]=np.diag(U)\n",
    "n_component=2\n",
    "S=S[:,:n_component]\n",
    "V=V[:n_component,:]\n",
    "A=U.dot(S.dot(V))\n",
    "print(A)"
   ]
  },
  {
   "cell_type": "code",
   "execution_count": 48,
   "metadata": {},
   "outputs": [
    {
     "data": {
      "text/plain": [
       "<matplotlib.image.AxesImage at 0x2cf9e88e488>"
      ]
     },
     "execution_count": 48,
     "metadata": {},
     "output_type": "execute_result"
    },
    {
     "data": {
      "image/png": "[encoded data removed]",
      "text/plain": [
       "<Figure size 288x288 with 1 Axes>"
      ]
     },
     "metadata": {
      "needs_background": "light"
     },
     "output_type": "display_data"
    }
   ],
   "source": [
    "plt.matshow(A,cmap=\"gray\")"
   ]
  },
  {
   "cell_type": "code",
   "execution_count": null,
   "metadata": {},
   "outputs": [],
   "source": []
  }
 ],
 "metadata": {
  "kernelspec": {
   "display_name": "Python 3",
   "language": "python",
   "name": "python3"
  },
  "language_info": {
   "codemirror_mode": {
    "name": "ipython",
    "version": 3
   },
   "file_extension": ".py",
   "mimetype": "text/x-python",
   "name": "python",
   "nbconvert_exporter": "python",
   "pygments_lexer": "ipython3",
   "version": "3.7.4"
  }
 },
 "nbformat": 4,
 "nbformat_minor": 2
}
